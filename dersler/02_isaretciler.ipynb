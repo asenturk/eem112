{
 "cells": [
  {
   "cell_type": "markdown",
   "metadata": {},
   "source": [
    "**İşaretçiler (Pointers)**\n",
    "\n",
    "İşaretçiler C/C++ dilinin en güçlü yönlerinden bir tanesidir. \n",
    "\n",
    "Bir işaretçi bir değişkenin bellek adresini tutar. Bu tutulan adres ile bellekteki değere ulaşılabilir. "
   ]
  },
  {
   "cell_type": "code",
   "execution_count": 2,
   "metadata": {},
   "outputs": [],
   "source": [
    "#include <iostream>\n",
    "using namespace std;"
   ]
  },
  {
   "cell_type": "code",
   "execution_count": 2,
   "metadata": {},
   "outputs": [],
   "source": [
    "int a=10;\n",
    "int b=20;"
   ]
  },
  {
   "cell_type": "code",
   "execution_count": 3,
   "metadata": {},
   "outputs": [
    {
     "name": "stdout",
     "output_type": "stream",
     "text": [
      "a degiskenin degeri: 10\n",
      "b degiskenin degeri: 20\n"
     ]
    }
   ],
   "source": [
    "cout << \"a degiskenin degeri: \" << a << endl;\n",
    "cout << \"b degiskenin degeri: \" << b << endl;"
   ]
  },
  {
   "cell_type": "markdown",
   "metadata": {},
   "source": [
    "C++ dilinde & işareti adres operaötürüdür. "
   ]
  },
  {
   "cell_type": "code",
   "execution_count": 5,
   "metadata": {},
   "outputs": [
    {
     "name": "stdout",
     "output_type": "stream",
     "text": [
      "a degiskenin bellekte saklandığı yerin adresi: 0x7f2ecde36024\n",
      "b degiskenin bellekte saklandığı yerin adresi: 0x7f2ecde36028\n"
     ]
    }
   ],
   "source": [
    "// & adres operatörüdür.\n",
    "cout << \"a degiskenin bellekte saklandığı yerin adresi: \" << &a << endl;\n",
    "cout << \"b degiskenin bellekte saklandığı yerin adresi: \" << &b << endl;"
   ]
  },
  {
   "cell_type": "code",
   "execution_count": 6,
   "metadata": {},
   "outputs": [],
   "source": [
    "// p adında işaretçi tanımlanması\n",
    "int *p;"
   ]
  },
  {
   "cell_type": "code",
   "execution_count": 7,
   "metadata": {},
   "outputs": [],
   "source": [
    "//p işaretçisine a'nın adresini atayalım\n",
    "p=&a;"
   ]
  },
  {
   "cell_type": "code",
   "execution_count": 8,
   "metadata": {},
   "outputs": [
    {
     "name": "stdout",
     "output_type": "stream",
     "text": [
      "p'nin bellekte bulunduğu adres: 0x7f2ecde36030\n",
      "p'de saklanan değer: 0x7f2ecde36024\n",
      "p'nin işaret ettiği yerdeki değer: 10\n"
     ]
    }
   ],
   "source": [
    "cout << \"p'nin bellekte bulunduğu adres: \" << &p << endl;\n",
    "cout << \"p'de saklanan değer: \" << p << endl;\n",
    "cout << \"p'nin işaret ettiği yerdeki değer: \" << *p << endl;"
   ]
  },
  {
   "cell_type": "code",
   "execution_count": 9,
   "metadata": {},
   "outputs": [
    {
     "name": "stdout",
     "output_type": "stream",
     "text": [
      "işaretçi ile yapılan işlem sonucu a'nın değeri: 11\n"
     ]
    }
   ],
   "source": [
    "// p'nin işaret ettiği yerdeki değerin, p'nin kullanılması ile  1 arttırılması\n",
    "*p = *p+1;\n",
    "\n",
    "cout << \"işaretçi ile yapılan işlem sonucu a'nın değeri: \" << a <<endl;\n"
   ]
  },
  {
   "cell_type": "code",
   "execution_count": 10,
   "metadata": {},
   "outputs": [],
   "source": [
    "//p işaretçisinin başka bir değişkene işaret etmesi\n",
    "p=&b;"
   ]
  },
  {
   "cell_type": "code",
   "execution_count": 12,
   "metadata": {},
   "outputs": [
    {
     "name": "stdout",
     "output_type": "stream",
     "text": [
      "p'nin işaret ettiği yerdeki değer: 20\n"
     ]
    }
   ],
   "source": [
    "cout << \"p'nin işaret ettiği yerdeki değer: \" << *p << endl;"
   ]
  },
  {
   "cell_type": "markdown",
   "metadata": {},
   "source": [
    "Dizilerin bellekte yerleşimi:"
   ]
  },
  {
   "cell_type": "code",
   "execution_count": 3,
   "metadata": {},
   "outputs": [],
   "source": [
    "int a[5];\n",
    "int i;\n",
    "double b[5];"
   ]
  },
  {
   "cell_type": "code",
   "execution_count": 4,
   "metadata": {},
   "outputs": [
    {
     "name": "stdout",
     "output_type": "stream",
     "text": [
      "0x7f0c9b72b030\n",
      "0x7f0c9b72b034\n",
      "0x7f0c9b72b038\n",
      "0x7f0c9b72b03c\n",
      "0x7f0c9b72b040\n"
     ]
    }
   ],
   "source": [
    "for(i=0;i<5;i++)\n",
    "    cout << &a[i] << endl;"
   ]
  },
  {
   "cell_type": "code",
   "execution_count": 5,
   "metadata": {},
   "outputs": [
    {
     "name": "stdout",
     "output_type": "stream",
     "text": [
      "0x7f0c9b72b050\n",
      "0x7f0c9b72b058\n",
      "0x7f0c9b72b060\n",
      "0x7f0c9b72b068\n",
      "0x7f0c9b72b070\n"
     ]
    }
   ],
   "source": [
    "for(i=0;i<5;i++)\n",
    "    cout << &b[i] << endl;"
   ]
  },
  {
   "cell_type": "markdown",
   "metadata": {},
   "source": [
    "a dizisine deger atanması:"
   ]
  },
  {
   "cell_type": "code",
   "execution_count": 6,
   "metadata": {},
   "outputs": [],
   "source": [
    "for(i=0;i<5;i++)\n",
    "    a[i]=i;"
   ]
  },
  {
   "cell_type": "code",
   "execution_count": 7,
   "metadata": {},
   "outputs": [
    {
     "name": "stdout",
     "output_type": "stream",
     "text": [
      "0\n",
      "0x7f0c9b72b030\n"
     ]
    }
   ],
   "source": [
    "cout << a[0] << endl;\n",
    "cout << a << endl;"
   ]
  },
  {
   "cell_type": "markdown",
   "metadata": {},
   "source": [
    "İşaretçiler dizilerle çok sık kullanılır:"
   ]
  },
  {
   "cell_type": "code",
   "execution_count": 8,
   "metadata": {},
   "outputs": [],
   "source": [
    "int *p;"
   ]
  },
  {
   "cell_type": "code",
   "execution_count": 9,
   "metadata": {},
   "outputs": [
    {
     "name": "stdout",
     "output_type": "stream",
     "text": [
      "0x7f0c9b72b030\n"
     ]
    }
   ],
   "source": [
    "p=&a[0];\n",
    "cout << p << endl;"
   ]
  },
  {
   "cell_type": "code",
   "execution_count": 10,
   "metadata": {},
   "outputs": [
    {
     "name": "stdout",
     "output_type": "stream",
     "text": [
      "0x7f0c9b72b030\n"
     ]
    }
   ],
   "source": [
    "p=a;\n",
    "cout << p << endl;"
   ]
  },
  {
   "cell_type": "code",
   "execution_count": 11,
   "metadata": {},
   "outputs": [
    {
     "name": "stdout",
     "output_type": "stream",
     "text": [
      "0x7f0c9b72b034\n"
     ]
    }
   ],
   "source": [
    "p=p+1;\n",
    "cout << p << endl;"
   ]
  },
  {
   "cell_type": "code",
   "execution_count": 12,
   "metadata": {},
   "outputs": [
    {
     "name": "stdout",
     "output_type": "stream",
     "text": [
      "0 1 2 3 4 "
     ]
    }
   ],
   "source": [
    "for(p=a;p<a+5;p++)\n",
    "    cout << *p << \" \";"
   ]
  },
  {
   "cell_type": "code",
   "execution_count": 13,
   "metadata": {},
   "outputs": [
    {
     "name": "stdout",
     "output_type": "stream",
     "text": [
      "0x7f0c9b72b038\n"
     ]
    }
   ],
   "source": [
    "cout << a+2 << endl;"
   ]
  },
  {
   "cell_type": "code",
   "execution_count": 14,
   "metadata": {},
   "outputs": [
    {
     "name": "stdout",
     "output_type": "stream",
     "text": [
      "4 3 2 1 0 "
     ]
    }
   ],
   "source": [
    "for(p=a+4;p>=a;p--)\n",
    "    cout << *p << \" \";"
   ]
  },
  {
   "cell_type": "markdown",
   "metadata": {},
   "source": [
    "Dizideki elemanların pointer ile toplanması:"
   ]
  },
  {
   "cell_type": "code",
   "execution_count": 15,
   "metadata": {},
   "outputs": [
    {
     "name": "stdout",
     "output_type": "stream",
     "text": [
      "toplam: 10\n"
     ]
    }
   ],
   "source": [
    "int t=0;\n",
    "for(p=a;p<a+5;p++)\n",
    "    t += *p;\n",
    "\n",
    "cout << \"toplam: \" << t << endl;"
   ]
  }
 ],
 "metadata": {
  "kernelspec": {
   "display_name": "C++14",
   "language": "C++14",
   "name": "xeus-cling-cpp14"
  },
  "language_info": {
   "codemirror_mode": "text/x-c++src",
   "file_extension": ".cpp",
   "mimetype": "text/x-c++src",
   "name": "c++",
   "version": "-std=c++14"
  }
 },
 "nbformat": 4,
 "nbformat_minor": 2
}
