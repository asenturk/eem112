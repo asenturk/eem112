{
 "cells": [
  {
   "cell_type": "markdown",
   "metadata": {},
   "source": [
    "Sayılar (bilgiler) bilgisayarda ikili sayılar (binary) olarak temsil edilir.\n",
    "\n",
    "Taban aritmetiği ile ilgili ayrıntılı bilgi:   \n",
    "http://www.cplusplus.com/doc/hex/   \n",
    "http://www.kpsskonu.com/genel-yetenek/matematik/taban-aritmetigi/   \n"
   ]
  },
  {
   "cell_type": "code",
   "execution_count": 1,
   "metadata": {},
   "outputs": [],
   "source": [
    "#include <iostream>\n",
    "#include <bitset>\n",
    "using namespace std;"
   ]
  },
  {
   "cell_type": "code",
   "execution_count": 4,
   "metadata": {},
   "outputs": [],
   "source": [
    "int a;"
   ]
  },
  {
   "cell_type": "code",
   "execution_count": 9,
   "metadata": {},
   "outputs": [],
   "source": [
    "a=12;"
   ]
  },
  {
   "cell_type": "markdown",
   "metadata": {},
   "source": [
    "a sayısı bellekte 2 tabanında sayı olarak saklanır:\n",
    "\n",
    "$(12)_{10}= (1100)_2$"
   ]
  },
  {
   "cell_type": "markdown",
   "metadata": {},
   "source": [
    "10 tabanında 572 sayısının değeri:  \n",
    "$  (5 \\times 10 ^3) + (7 \\times 10^1) + (2 \\times 10^0) $ olarak hesaplanır.\n",
    "\n",
    "Benzer şekilde  2 tabanındaki 10011 sayısının değeri:   \n",
    "$  (1 \\times 2 ^4) +(0 \\times 2 ^3) +(0 \\times 2 ^2) +(1 \\times 2 ^1) +(1 \\times 2 ^0)  $ olarak hesaplanır.   \n",
    "Bu durumda: $(10011)_2=(19)_{10}$\n",
    "\n",
    "Bilgisayarda çok sık kullanılan  8 sayı tabanı (octal), 16 sayı tabanı (hexadecimal) sayı tabanları vardır.   \n",
    "\n",
    "Octal sayı tabanında rakamlar 0-7 arasındadır:  \n",
    "$(2743)_8=(2 \\times 8 ^3) +(7 \\times 8 ^2) +(4 \\times 8 ^1) +(3 \\times 8 ^0) =(1507)_{10}$\n",
    "\n",
    "Hexadecimal sayı tabanında rakamlar 0-15 arasındadır. 10,11,12,13,14, ve 15 rakamları için sırasıyla A,B,C,D,E,F harfleri kullanılır:\n",
    "$(A3D8)_{16}=(A \\times 16 ^3) +(3 \\times 16 ^2) +(D \\times 16 ^1) +(8 \\times 16 ^0) = \\\\ ~~~~~~~~~~~~~~~~~~~~(10 \\times 16 ^3) +(3 \\times 16 ^2) +(13 \\times 16 ^1) +(8 \\times 16 ^0)=(41944)_{10}$"
   ]
  },
  {
   "cell_type": "code",
   "execution_count": 21,
   "metadata": {},
   "outputs": [
    {
     "name": "stdout",
     "output_type": "stream",
     "text": [
      "a3d8\n",
      "2743\n",
      "41944\n",
      "1507\n"
     ]
    }
   ],
   "source": [
    "//on tabanındaki sayıların hex ve oct gösterimleri\n",
    "cout << hex << 41944 << endl;\n",
    "cout << oct << 1507 << endl;\n",
    "\n",
    "//hex ve oct tabanındaki sayıların on tabanında gösterimleri\n",
    "cout << dec << 0xa3d8 << endl;\n",
    "cout << dec << 02743 << endl;\n"
   ]
  },
  {
   "cell_type": "code",
   "execution_count": 25,
   "metadata": {},
   "outputs": [
    {
     "name": "stdout",
     "output_type": "stream",
     "text": [
      "0:0 1:1 2:2 3:3 4:4 5:5 6:6 7:7 8:8 9:9 10:a 11:b 12:c 13:d 14:e 15:f 16:10 17:11 18:12 19:13 20:14 21:15 22:16 23:17 24:18 25:19 26:1a 27:1b 28:1c 29:1d "
     ]
    }
   ],
   "source": [
    "for(a=0; a<30; a++)\n",
    " cout << dec << a <<\":\"<<hex << a << \" \";  \n",
    "    "
   ]
  },
  {
   "cell_type": "code",
   "execution_count": 27,
   "metadata": {},
   "outputs": [
    {
     "name": "stdout",
     "output_type": "stream",
     "text": [
      "0:0 1:1 2:2 3:3 4:4 5:5 6:6 7:7 8:10 9:11 10:12 11:13 12:14 13:15 14:16 15:17 16:20 17:21 18:22 19:23 20:24 21:25 22:26 23:27 24:30 25:31 26:32 27:33 28:34 29:35 "
     ]
    }
   ],
   "source": [
    "for(a=0; a<30; a++)\n",
    "    cout << dec << a <<\":\"<<oct << a << \" \";"
   ]
  },
  {
   "cell_type": "markdown",
   "metadata": {},
   "source": [
    "**Bitwise İşlemler**   \n",
    "&: ve   \n",
    "| : veya  \n",
    "~ : değil   \n",
    "^ : xor  \n",
    "<< : sola kaydırma  \n",
    "\\>> : sağa kaydırma\n",
    "\n"
   ]
  },
  {
   "cell_type": "code",
   "execution_count": 2,
   "metadata": {},
   "outputs": [],
   "source": [
    "unsigned int a=12;\n",
    "unsigned int b=10;"
   ]
  },
  {
   "cell_type": "code",
   "execution_count": 3,
   "metadata": {},
   "outputs": [
    {
     "name": "stdout",
     "output_type": "stream",
     "text": [
      "Dec: 12 Hex: C Bin: 00001100\n",
      "Dec: 10 Hex: A Bin: 00001010\n"
     ]
    }
   ],
   "source": [
    "cout << dec << \"Dec: \"<< a << \" Hex: \" << uppercase <<hex << a << \" Bin: \"<<bitset<8>(a) << endl;\n",
    "cout << dec << \"Dec: \"<< b << \" Hex: \" << uppercase <<hex << b << \" Bin: \"<<bitset<8>(b) << endl;"
   ]
  },
  {
   "cell_type": "markdown",
   "metadata": {},
   "source": [
    "VE işleminde her iki bit de 1 ise sonuç 1 olur diğer durumlarda sonuç 0 olur.\n",
    "\n",
    "| a | b | f  |\n",
    "|---|---|----|\n",
    "| 0 | 0 | 0  |\n",
    "| 0 | 1 | 0  |\n",
    "| 1 | 0 | 0  |\n",
    "| 1 | 1 | 1  |"
   ]
  },
  {
   "cell_type": "code",
   "execution_count": 12,
   "metadata": {},
   "outputs": [
    {
     "name": "stdout",
     "output_type": "stream",
     "text": [
      "00001100\n",
      "00001010\n",
      "00001000\n"
     ]
    }
   ],
   "source": [
    "cout <<bitset<8>(a) << endl;\n",
    "cout <<bitset<8>(b) << endl;\n",
    "cout <<bitset<8>(a&b) << endl;"
   ]
  },
  {
   "cell_type": "markdown",
   "metadata": {},
   "source": [
    "VEYA işleminde bitlerden 1 tanesinin  1 olması sonucu 1 yapmak için yeterlidir.\n",
    "\n",
    "| a | b | f  |\n",
    "|---|---|----|\n",
    "| 0 | 0 | 0  |\n",
    "| 0 | 1 | 1  |\n",
    "| 1 | 0 | 1  |\n",
    "| 1 | 1 | 1  |"
   ]
  },
  {
   "cell_type": "code",
   "execution_count": 14,
   "metadata": {},
   "outputs": [
    {
     "name": "stdout",
     "output_type": "stream",
     "text": [
      "00001100\n",
      "00001010\n",
      "00001110\n"
     ]
    }
   ],
   "source": [
    "cout <<bitset<8>(a) << endl;\n",
    "cout <<bitset<8>(b) << endl;\n",
    "cout <<bitset<8>(a|b) << endl;"
   ]
  },
  {
   "cell_type": "markdown",
   "metadata": {},
   "source": [
    "XOR işlemi (mod 2)'de toplama işlemi gibi düşünülebilir.\n",
    "\n",
    "| a | b | f  |\n",
    "|---|---|----|\n",
    "| 0 | 0 | 0  |\n",
    "| 0 | 1 | 1  |\n",
    "| 1 | 0 | 1  |\n",
    "| 1 | 1 | 0  |"
   ]
  },
  {
   "cell_type": "code",
   "execution_count": 15,
   "metadata": {},
   "outputs": [
    {
     "name": "stdout",
     "output_type": "stream",
     "text": [
      "00001100\n",
      "00001010\n",
      "00000110\n"
     ]
    }
   ],
   "source": [
    "cout <<bitset<8>(a) << endl;\n",
    "cout <<bitset<8>(b) << endl;\n",
    "cout <<bitset<8>(a^b) << endl;"
   ]
  },
  {
   "cell_type": "markdown",
   "metadata": {},
   "source": [
    "DEĞİL işleminde bit 0 ise 1 1 ise 0 yapılır.\n",
    "\n",
    "| a | f  |\n",
    "|---|----|\n",
    "| 0 | 1  |\n",
    "| 1 | 0  |"
   ]
  },
  {
   "cell_type": "code",
   "execution_count": 16,
   "metadata": {},
   "outputs": [
    {
     "name": "stdout",
     "output_type": "stream",
     "text": [
      "00001100\n",
      "11110011\n"
     ]
    }
   ],
   "source": [
    "cout <<bitset<8>(a) << endl;\n",
    "cout <<bitset<8>(~a) << endl;"
   ]
  },
  {
   "cell_type": "markdown",
   "metadata": {},
   "source": [
    "Sağa kaydırma operatörü: >> "
   ]
  },
  {
   "cell_type": "code",
   "execution_count": 18,
   "metadata": {},
   "outputs": [
    {
     "name": "stdout",
     "output_type": "stream",
     "text": [
      "00001100\n",
      "00000110\n",
      "00000011\n"
     ]
    }
   ],
   "source": [
    "cout <<bitset<8>(a) << endl;\n",
    "cout <<bitset<8>(a>>1) << endl;\n",
    "cout <<bitset<8>(a>>2) << endl;"
   ]
  },
  {
   "cell_type": "markdown",
   "metadata": {},
   "source": [
    "Sola kaydırma operatörü: <<"
   ]
  },
  {
   "cell_type": "code",
   "execution_count": 22,
   "metadata": {},
   "outputs": [
    {
     "name": "stdout",
     "output_type": "stream",
     "text": [
      "00001100\n",
      "00011000\n",
      "00110000\n"
     ]
    }
   ],
   "source": [
    "cout <<bitset<8>(a) << endl;\n",
    "cout <<bitset<8>(a<<1) << endl;\n",
    "cout <<bitset<8>(a<<2) << endl;"
   ]
  },
  {
   "cell_type": "markdown",
   "metadata": {},
   "source": [
    "**Set Bit** işlemi, bir değişkeninin en sağdaki biti 0. biti olmak üzere n. bitini 1 yapma işlemidir."
   ]
  },
  {
   "cell_type": "code",
   "execution_count": 25,
   "metadata": {},
   "outputs": [
    {
     "name": "stdout",
     "output_type": "stream",
     "text": [
      "0000000000001100\n"
     ]
    }
   ],
   "source": [
    "cout <<bitset<16>(a) << endl;"
   ]
  },
  {
   "cell_type": "markdown",
   "metadata": {},
   "source": [
    "a değişkeninin 10. bitini set edelim."
   ]
  },
  {
   "cell_type": "code",
   "execution_count": 5,
   "metadata": {},
   "outputs": [],
   "source": [
    "int n;"
   ]
  },
  {
   "cell_type": "code",
   "execution_count": 5,
   "metadata": {},
   "outputs": [
    {
     "name": "stdout",
     "output_type": "stream",
     "text": [
      "a: 0000000000001100\n",
      "   0000010000001100\n"
     ]
    }
   ],
   "source": [
    "n=10;\n",
    "cout << \"a: \"<<bitset<16>(a) << endl;\n",
    "cout << \"   \"<<bitset<16>(a | (1<<n)) << endl;"
   ]
  },
  {
   "cell_type": "markdown",
   "metadata": {},
   "source": [
    "**Clear Bit** işlemi, bir değişkeninin en sağdaki biti 0. biti olmak üzere n. bitini 0 yapma işlemidir."
   ]
  },
  {
   "cell_type": "markdown",
   "metadata": {},
   "source": [
    "a değişkeninin 3. bitini 0 yapalım.\n"
   ]
  },
  {
   "cell_type": "code",
   "execution_count": 6,
   "metadata": {},
   "outputs": [
    {
     "name": "stdout",
     "output_type": "stream",
     "text": [
      "a: 0000000000001100\n",
      "   0000000000000100\n"
     ]
    }
   ],
   "source": [
    "n=3;\n",
    "cout << \"a: \"<<bitset<16>(a) << endl;\n",
    "cout << \"   \"<<bitset<16>(a & ~(1<<n)) << endl;"
   ]
  },
  {
   "cell_type": "markdown",
   "metadata": {},
   "source": [
    "**Test Bit** işlemi, bir değişkeninin en sağdaki biti 0. biti olmak üzere n. bitinin 1 veya  0 olduğunu kontrol etme işlemidir."
   ]
  },
  {
   "cell_type": "code",
   "execution_count": 7,
   "metadata": {},
   "outputs": [
    {
     "name": "stdout",
     "output_type": "stream",
     "text": [
      "a: 0000000000001100\n",
      "   1\n"
     ]
    }
   ],
   "source": [
    "// a değişkeninin 3. bitini kontrol etme\n",
    "n=3;\n",
    "cout << \"a: \"<<bitset<16>(a) << endl;\n",
    "cout << \"   \"<<((a >> n) & 1) << endl;"
   ]
  },
  {
   "cell_type": "code",
   "execution_count": 8,
   "metadata": {},
   "outputs": [
    {
     "name": "stdout",
     "output_type": "stream",
     "text": [
      "a: 0000000000001100\n",
      "   0\n"
     ]
    }
   ],
   "source": [
    "// a değişkeninin 4. bitini kontrol etme\n",
    "n=4;\n",
    "cout << \"a: \"<<bitset<16>(a) << endl;\n",
    "cout << \"   \"<<((a >> n) & 1) << endl;"
   ]
  },
  {
   "cell_type": "markdown",
   "metadata": {},
   "source": [
    "**Toggle Bit** işlemi, bir değişkeninin en sağdaki biti 0. biti olmak üzere n. biti 1 ise 0 yapma 0 ise 1 yapma işlemidir."
   ]
  },
  {
   "cell_type": "code",
   "execution_count": 9,
   "metadata": {},
   "outputs": [
    {
     "name": "stdout",
     "output_type": "stream",
     "text": [
      "a: 0000000000001100\n",
      "   0000000000001000\n",
      "   0000000000011100\n"
     ]
    }
   ],
   "source": [
    "n=2;\n",
    "cout << \"a: \"<<bitset<16>(a) << endl;\n",
    "cout << \"   \"<<bitset<16>(a ^ (1<<n)) << endl;\n",
    "n=4;\n",
    "cout << \"   \"<<bitset<16>(a ^ (1<<n)) << endl;"
   ]
  },
  {
   "cell_type": "markdown",
   "metadata": {},
   "source": [
    "**Clear Range** bir bölgenin temizlenmesi (0 yapılması) işlemidir.     \n",
    "Temizlenecek kadar $11\\cdots11$ sayısı elde etmek gerekir.  \n",
    "Örneğin 7. bitten itibaren 5 bitlik bir bölge 0 yapılacaksa 11111=0x1F sayısı kullanılır."
   ]
  },
  {
   "cell_type": "code",
   "execution_count": null,
   "metadata": {},
   "outputs": [],
   "source": [
    "unsigned int cr;"
   ]
  },
  {
   "cell_type": "code",
   "execution_count": 32,
   "metadata": {},
   "outputs": [],
   "source": [
    "cr=0x1F;"
   ]
  },
  {
   "cell_type": "code",
   "execution_count": 33,
   "metadata": {},
   "outputs": [
    {
     "name": "stdout",
     "output_type": "stream",
     "text": [
      "a: 0001111011101101\n",
      "   0001000001101101\n"
     ]
    }
   ],
   "source": [
    "a=7917;\n",
    "n=7;\n",
    "cout << \"a: \"<<bitset<16>(a) << endl;\n",
    "cout << \"   \"<<bitset<16>(a & ~(cr<<n)) << endl;"
   ]
  },
  {
   "cell_type": "markdown",
   "metadata": {},
   "source": [
    "**Set Range** bir bölgeye bir verinin yazılması işlemidir.  \n",
    "Bu işlemi yapabilmek için önce o bölgenin temizlenmesi gerekmektedir.  \n",
    "Temzilenme işleminden sonra yazılmak istenen veri VEYA işlemi ile yapılabilir."
   ]
  },
  {
   "cell_type": "markdown",
   "metadata": {},
   "source": [
    "Bir değişkenin 9. bitinden itibaren 1010 verisini yazalım:"
   ]
  },
  {
   "cell_type": "code",
   "execution_count": 35,
   "metadata": {},
   "outputs": [],
   "source": [
    "int d;"
   ]
  },
  {
   "cell_type": "code",
   "execution_count": 41,
   "metadata": {},
   "outputs": [
    {
     "name": "stdout",
     "output_type": "stream",
     "text": [
      "a: 0001111011101101\n",
      "   0001010011101101\n"
     ]
    }
   ],
   "source": [
    "a=7917;\n",
    "cr=0xF;\n",
    "d=0xA;\n",
    "n=9;\n",
    "cout << \"a: \"<<bitset<16>(a) << endl;\n",
    "cout << \"   \"<<bitset<16>((a & ~(cr<<n)) | (d << n)) << endl;"
   ]
  }
 ],
 "metadata": {
  "kernelspec": {
   "display_name": "C++14",
   "language": "C++14",
   "name": "xeus-cling-cpp14"
  },
  "language_info": {
   "codemirror_mode": "text/x-c++src",
   "file_extension": ".cpp",
   "mimetype": "text/x-c++src",
   "name": "c++",
   "version": "-std=c++14"
  }
 },
 "nbformat": 4,
 "nbformat_minor": 2
}
