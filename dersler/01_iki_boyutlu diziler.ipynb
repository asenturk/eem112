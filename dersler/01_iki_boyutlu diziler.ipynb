{
 "cells": [
  {
   "cell_type": "markdown",
   "metadata": {},
   "source": [
    "**Önce bir boyutlu dizileri hatırlayalım**"
   ]
  },
  {
   "cell_type": "code",
   "execution_count": null,
   "metadata": {},
   "outputs": [],
   "source": [
    "#include <iostream>\n",
    "using namespace std;"
   ]
  },
  {
   "cell_type": "code",
   "execution_count": null,
   "metadata": {},
   "outputs": [],
   "source": [
    "int a[]={2,4,6,8,10,12};"
   ]
  },
  {
   "cell_type": "code",
   "execution_count": 4,
   "metadata": {},
   "outputs": [
    {
     "name": "stdout",
     "output_type": "stream",
     "text": [
      "24681012"
     ]
    }
   ],
   "source": [
    "for(int i=0;i<6;i++)\n",
    "    cout << a[i];"
   ]
  },
  {
   "cell_type": "markdown",
   "metadata": {},
   "source": [
    "**Calışma**: Sayıların arasında boşluk bırakınız."
   ]
  },
  {
   "cell_type": "markdown",
   "metadata": {},
   "source": [
    "**Calışma**: Sayıları alt alta yazdırınız."
   ]
  },
  {
   "cell_type": "markdown",
   "metadata": {},
   "source": [
    "**Calışma**: Sayıları tersten yazdırınız."
   ]
  },
  {
   "cell_type": "markdown",
   "metadata": {},
   "source": [
    "**Calışma**: Sayıların toplamını bulunuz."
   ]
  },
  {
   "cell_type": "markdown",
   "metadata": {},
   "source": [
    "**Calışma**: Sayıların çarpımını bulunuz."
   ]
  },
  {
   "cell_type": "markdown",
   "metadata": {},
   "source": [
    "**İki boyutlu diziler**"
   ]
  },
  {
   "cell_type": "code",
   "execution_count": 5,
   "metadata": {},
   "outputs": [],
   "source": [
    "//başlangıç değerleri atam\n",
    "int b[3][3]={{1,2,3},{4,5,6},{7,8,9}};"
   ]
  },
  {
   "cell_type": "code",
   "execution_count": 6,
   "metadata": {},
   "outputs": [
    {
     "name": "stdout",
     "output_type": "stream",
     "text": [
      "123456789"
     ]
    }
   ],
   "source": [
    "for(int i=0;i<3;i++)\n",
    "    for(int j=0;j<3;j++)\n",
    "        cout << b[i][j]"
   ]
  },
  {
   "cell_type": "markdown",
   "metadata": {},
   "source": [
    "**Soru**: Sayıların arasında boşluk bırakınız."
   ]
  },
  {
   "cell_type": "markdown",
   "metadata": {},
   "source": [
    "**Soru**: Sayıları alt alta yazdırınız."
   ]
  },
  {
   "cell_type": "markdown",
   "metadata": {},
   "source": [
    "**Soru**: Sayıları tersten yazdırınız."
   ]
  },
  {
   "cell_type": "markdown",
   "metadata": {},
   "source": [
    "**Soru**: Sayıların toplamını bulunuz."
   ]
  },
  {
   "cell_type": "markdown",
   "metadata": {},
   "source": [
    "**Soru**: Sayıların çarpımını bulunuz."
   ]
  },
  {
   "cell_type": "markdown",
   "metadata": {},
   "source": [
    "Sayıları matris formunda hizalı yazdıralım."
   ]
  },
  {
   "cell_type": "code",
   "execution_count": 7,
   "metadata": {},
   "outputs": [
    {
     "name": "stdout",
     "output_type": "stream",
     "text": [
      "1 2 3 \n",
      "4 5 6 \n",
      "7 8 9 \n"
     ]
    }
   ],
   "source": [
    "for(int i=0;i<3;i++){\n",
    "    for(int j=0;j<3;j++)\n",
    "        cout << b[i][j] << \" \";\n",
    "    cout << endl;}"
   ]
  },
  {
   "cell_type": "markdown",
   "metadata": {},
   "source": [
    "$ A $  $ n \\times m$  boyutunda bir matris ise $A$'nın tranzpozesi $A^T$ ile gösterilir ve    \n",
    "\n",
    "$(A^T)_{ij}=A_{ji}$ \n",
    "\n"
   ]
  },
  {
   "cell_type": "markdown",
   "metadata": {},
   "source": [
    "**Soru**: Yukarıda iki boyutlu dizi ile tanımlı matrisin transpozesini bulalım."
   ]
  },
  {
   "cell_type": "code",
   "execution_count": 11,
   "metadata": {},
   "outputs": [
    {
     "name": "stdout",
     "output_type": "stream",
     "text": [
      "1 4 7 \n",
      "2 5 8 \n",
      "3 6 9 \n"
     ]
    }
   ],
   "source": [
    "for(int i=0;i<3;i++){\n",
    "    for(int j=0;j<3;j++)\n",
    "        cout << b[j][i] << \" \";\n",
    "    cout << endl;}"
   ]
  },
  {
   "cell_type": "markdown",
   "metadata": {},
   "source": [
    "**Sıfır matrisi**"
   ]
  },
  {
   "cell_type": "markdown",
   "metadata": {},
   "source": [
    "**Soru**: $4 \\times 4$ boyutunda bir 0 matrisini iç içe iki döngüde matrisin elemanlarına 0 atayarak oluşturunuz."
   ]
  },
  {
   "cell_type": "code",
   "execution_count": null,
   "metadata": {},
   "outputs": [],
   "source": [
    "int sifir_matrisi[4][4];\n",
    "for(int i=0 ...\n",
    "    for(int j=0 ...)\n",
    "        sifir_matrisi ...."
   ]
  },
  {
   "cell_type": "markdown",
   "metadata": {},
   "source": [
    "**Birim Matris**  \n",
    "Birim matris şu şekilde tanımlıdır:\n",
    "\n",
    "$\n",
    " I_{i,j} = \\begin{cases}\n",
    "     1 & \\text{if } i=j \\\\ \n",
    "     0 & \\text{if } i \\neq j \\\\ \n",
    "     \\end{cases}\n",
    "$"
   ]
  },
  {
   "cell_type": "markdown",
   "metadata": {},
   "source": [
    "**Soru**: $5 \\times 5$ boyutunda bir birim matris oluşturunuz ve düzenli bir şekilde yazdırınız."
   ]
  },
  {
   "cell_type": "code",
   "execution_count": null,
   "metadata": {},
   "outputs": [],
   "source": [
    "//oluşturma\n",
    "int birim_matris...\n",
    "for(int i=0 ...\n",
    "    for(int j=0 ...)\n",
    "        if ...\n",
    "        sifir_matrisi= ....\n",
    "//yazdırma\n",
    "for(int i=0 ...\n",
    "    for(int j=0 ...)\n",
    "        \n"
   ]
  },
  {
   "cell_type": "markdown",
   "metadata": {},
   "source": [
    "**Matrislerin toplanması**\n",
    "\n",
    "$3 \\times 3$ boyutunda a1, a2 ve a3  matrislerini oluşturunuz. Bu matrislerden a1 ve a2 matrislerine değer giriniz. a1 ve a2 matrislerinin toplayınız ve a3 matrisini oluşturunuz. "
   ]
  },
  {
   "cell_type": "code",
   "execution_count": null,
   "metadata": {},
   "outputs": [],
   "source": [
    "int a1[3][3], a2[3][3], a3[3][3];"
   ]
  },
  {
   "cell_type": "code",
   "execution_count": null,
   "metadata": {},
   "outputs": [],
   "source": [
    "//birinci matrise deger atama\n",
    "for(int i=0; i<3; i++)\n",
    "    for(int j=0; j<3; j++)\n",
    "        cin >> a1[i][j];\n",
    "                 "
   ]
  },
  {
   "cell_type": "code",
   "execution_count": null,
   "metadata": {},
   "outputs": [],
   "source": [
    "//ikinci matrise deger atama\n",
    "for(int ...\n",
    "    for(int ...\n",
    "        "
   ]
  },
  {
   "cell_type": "code",
   "execution_count": null,
   "metadata": {},
   "outputs": [],
   "source": [
    "//matrisleri toplayalım\n",
    "for(int i=0; i<3; i++)\n",
    "    for(int j=0; j<3; j++)\n",
    "        a3 ...\n"
   ]
  },
  {
   "cell_type": "code",
   "execution_count": 12,
   "metadata": {},
   "outputs": [],
   "source": [
    "// birinci matrisi yazdıralım\n",
    "// ikinci matrisi yazdıralım\n",
    "// toplam matrisini yazdıralım"
   ]
  },
  {
   "cell_type": "code",
   "execution_count": null,
   "metadata": {},
   "outputs": [],
   "source": []
  },
  {
   "cell_type": "code",
   "execution_count": null,
   "metadata": {},
   "outputs": [],
   "source": []
  },
  {
   "cell_type": "code",
   "execution_count": null,
   "metadata": {},
   "outputs": [],
   "source": []
  },
  {
   "cell_type": "code",
   "execution_count": null,
   "metadata": {},
   "outputs": [],
   "source": []
  }
 ],
 "metadata": {
  "kernelspec": {
   "display_name": "C++14",
   "language": "C++14",
   "name": "xeus-cling-cpp14"
  },
  "language_info": {
   "codemirror_mode": "text/x-c++src",
   "file_extension": ".cpp",
   "mimetype": "text/x-c++src",
   "name": "c++",
   "version": "-std=c++14"
  }
 },
 "nbformat": 4,
 "nbformat_minor": 2
}
